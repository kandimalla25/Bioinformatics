{
 "cells": [
  {
   "cell_type": "code",
   "execution_count": 24,
   "id": "34481c3f",
   "metadata": {},
   "outputs": [],
   "source": [
    "import networkx as nx\n",
    "from matplotlib import pyplot as plt"
   ]
  },
  {
   "cell_type": "code",
   "execution_count": 25,
   "id": "7973e11d",
   "metadata": {},
   "outputs": [
    {
     "data": {
      "text/plain": [
       "['gac', 'acg', 'cgc', 'cgt', 'tcg', 'gag', 'aga']"
      ]
     },
     "execution_count": 25,
     "metadata": {},
     "output_type": "execute_result"
    }
   ],
   "source": [
    "reads = []\n",
    "\n",
    "with open('1002033072.txt', 'r') as fp:\n",
    "    for i in fp:\n",
    "        control = i[:-1]\n",
    "        reads.append(control)\n",
    "        \n",
    "reads"
   ]
  },
  {
   "cell_type": "code",
   "execution_count": 26,
   "id": "b965bc4c",
   "metadata": {},
   "outputs": [],
   "source": [
    "def k_mer(reads, k):\n",
    "    kmerlist = []\n",
    "    kmer_read = {}\n",
    "\n",
    "    for i in range(len(reads)):\n",
    "        map_key = reads[i] + '_' + str(i)\n",
    "        if kmer_read.get(map_key, '') == '':\n",
    "            kmer_read[map_key] = []\n",
    "        for j in range(len(reads[i]) - k + 1):\n",
    "            kmer = reads[i][j:j+k]\n",
    "            kmerlist.append(kmer)\n",
    "            \n",
    "            kmer_read[map_key].append(kmer)\n",
    "    \n",
    "    return set(kmerlist), kmer_read\n",
    "\n",
    "kmers, kmer_read = k_mer(reads, k=2)\n",
    "    "
   ]
  },
  {
   "cell_type": "code",
   "execution_count": 27,
   "id": "d667619e",
   "metadata": {},
   "outputs": [
    {
     "data": {
      "text/plain": [
       "{'ac', 'ag', 'cg', 'ga', 'gc', 'gt', 'tc'}"
      ]
     },
     "execution_count": 27,
     "metadata": {},
     "output_type": "execute_result"
    }
   ],
   "source": [
    "kmers"
   ]
  },
  {
   "cell_type": "code",
   "execution_count": 28,
   "id": "eb8f86f8",
   "metadata": {},
   "outputs": [
    {
     "data": {
      "text/plain": [
       "{'gac_0': ['ga', 'ac'],\n",
       " 'acg_1': ['ac', 'cg'],\n",
       " 'cgc_2': ['cg', 'gc'],\n",
       " 'cgt_3': ['cg', 'gt'],\n",
       " 'tcg_4': ['tc', 'cg'],\n",
       " 'gag_5': ['ga', 'ag'],\n",
       " 'aga_6': ['ag', 'ga']}"
      ]
     },
     "execution_count": 28,
     "metadata": {},
     "output_type": "execute_result"
    }
   ],
   "source": [
    "kmer_read"
   ]
  },
  {
   "cell_type": "code",
   "execution_count": 29,
   "id": "e06805c4",
   "metadata": {},
   "outputs": [
    {
     "name": "stdout",
     "output_type": "stream",
     "text": [
      "['gt', 'tc', 'ga', 'cg', 'gc', 'ag', 'ac']\n"
     ]
    }
   ],
   "source": [
    "km = list(kmers)\n",
    "print(km)\n",
    "\n",
    "file = open('kmers.txt', 'w')\n",
    "\n",
    "for i in range(0,7):\n",
    "    file.write(km[i] + \"\\n\")\n",
    "\n",
    "file.close()"
   ]
  },
  {
   "cell_type": "code",
   "execution_count": 30,
   "id": "9dbebffd",
   "metadata": {},
   "outputs": [
    {
     "data": {
      "text/plain": [
       "{'gac_0': ['ga', 'ac'],\n",
       " 'acg_1': ['ac', 'cg'],\n",
       " 'cgc_2': ['cg', 'gc'],\n",
       " 'cgt_3': ['cg', 'gt'],\n",
       " 'tcg_4': ['tc', 'cg'],\n",
       " 'gag_5': ['ga', 'ag'],\n",
       " 'aga_6': ['ag', 'ga']}"
      ]
     },
     "execution_count": 30,
     "metadata": {},
     "output_type": "execute_result"
    }
   ],
   "source": [
    "kmer_read"
   ]
  },
  {
   "cell_type": "code",
   "execution_count": 31,
   "id": "7433058d",
   "metadata": {},
   "outputs": [
    {
     "data": {
      "text/plain": [
       "['gt', 'tc', 'ga', 'cg', 'gc', 'ag', 'ac']"
      ]
     },
     "execution_count": 31,
     "metadata": {},
     "output_type": "execute_result"
    }
   ],
   "source": [
    "kmer = []\n",
    "\n",
    "with open('kmers.txt','r') as fp:\n",
    "    for i in fp:\n",
    "        control = i[:-1]\n",
    "        kmer.append(control)\n",
    "        \n",
    "kmer\n"
   ]
  },
  {
   "cell_type": "code",
   "execution_count": 32,
   "id": "5c834102",
   "metadata": {},
   "outputs": [
    {
     "name": "stdout",
     "output_type": "stream",
     "text": [
      "{'gt', 'tc', 'ga', 'cg', 'gc', 'ag', 'ac'}\n"
     ]
    }
   ],
   "source": [
    "kmer = set(kmer)\n",
    "print(kmer)"
   ]
  },
  {
   "cell_type": "code",
   "execution_count": 33,
   "id": "f3f449a8",
   "metadata": {},
   "outputs": [],
   "source": [
    "list_edges = []\n",
    "for read in kmer_read:\n",
    "    list_edges.append(kmer_read[read])"
   ]
  },
  {
   "cell_type": "code",
   "execution_count": 35,
   "id": "490c0e65",
   "metadata": {},
   "outputs": [
    {
     "data": {
      "image/png": "[encoded data removed]",
      "text/plain": [
       "<Figure size 648x648 with 1 Axes>"
      ]
     },
     "metadata": {},
     "output_type": "display_data"
    }
   ],
   "source": [
    "G = nx.DiGraph()  \n",
    "G.add_edges_from(list_edges)\n",
    "                 \n",
    "plt.figure(figsize =(9, 9))\n",
    "nx.draw_networkx(G, node_color = 'green')"
   ]
  },
  {
   "cell_type": "code",
   "execution_count": 15,
   "id": "eb809233",
   "metadata": {},
   "outputs": [],
   "source": [
    "#Possible sequence - \n",
    "#AGACGC \n",
    "#AGACGT \n",
    "#TCGT \n",
    "#TCGC\n",
    "\n",
    "# Add reads \n",
    "#CGG \n",
    "#TCC\n",
    "\n",
    "#Generates an eulerian walk with the genome assembly as below\n",
    "#AGACGCGTCG"
   ]
  }
 ],
 "metadata": {
  "kernelspec": {
   "display_name": "Python 3 (ipykernel)",
   "language": "python",
   "name": "python3"
  },
  "language_info": {
   "codemirror_mode": {
    "name": "ipython",
    "version": 3
   },
   "file_extension": ".py",
   "mimetype": "text/x-python",
   "name": "python",
   "nbconvert_exporter": "python",
   "pygments_lexer": "ipython3",
   "version": "3.10.8"
  }
 },
 "nbformat": 4,
 "nbformat_minor": 5
}
